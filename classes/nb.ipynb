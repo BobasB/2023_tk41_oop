{
 "cells": [
  {
   "cell_type": "code",
   "execution_count": 15,
   "metadata": {},
   "outputs": [],
   "source": [
    "class Test:\n",
    "    pass\n",
    "\n",
    "class Anime:\n",
    "    \"\"\"Даний клас описує Аніме за нашими вподобаннями.\n",
    "    \"\"\"\n",
    "    def __init__(self, title: str, amount_of_heros:int=None) -> None:\n",
    "        self.title = title\n",
    "        self.amount_of_heros = amount_of_heros\n",
    "    \n",
    "    def set_score(self, score: int):\n",
    "        self.score = score\n",
    "        print(f\"Ми оцінили аніме {self.title} на оцінку {self.score}\")\n",
    "    \n",
    "    def __repr__(self) -> str:\n",
    "        return f\"Це обєкт класу {Anime} з назвою {self.title}\"\n",
    "    \n",
    "    def __str__(self) -> str:\n",
    "        return f\"Тайтл нашого аніме: {self.title}\"\n",
    "    \n",
    "    def __len__(self) -> int:\n",
    "        return self.amount_of_heros\n",
    "    \n",
    "    def __eq__(self, __value: object) -> bool:\n",
    "        if isinstance(__value, int):\n",
    "            return self.amount_of_heros == __value\n",
    "        if isinstance(__value, Anime):\n",
    "            return self.amount_of_heros == __value.amount_of_heros\n",
    "        return False"
   ]
  },
  {
   "cell_type": "code",
   "execution_count": 21,
   "metadata": {},
   "outputs": [
    {
     "name": "stdout",
     "output_type": "stream",
     "text": [
      "Ми оцінили аніме UndeadUnluck на оцінку 9\n",
      "Застосування прінт до обєектів дасть: Тайтл нашого аніме: UndeadUnluck ||| <__main__.Test object at 0x000001AC8AD60610>\n",
      "Представлення обєктів має вигляд: Це обєкт класу <class '__main__.Anime'> з назвою UndeadUnluck ||| <__main__.Test object at 0x000001AC8AD60610>\n",
      "Даний клас описує Аніме за нашими вподобаннями.\n",
      "    \n"
     ]
    }
   ],
   "source": [
    "t = Test()\n",
    "a = Anime(\"UndeadUnluck\", amount_of_heros=2)\n",
    "b = Anime(\"Сходження в тіні\", amount_of_heros=8)\n",
    "\n",
    "a.set_score(9)\n",
    "\n",
    "print(f\"Застосування прінт до обєектів дасть: {a} ||| {t}\")\n",
    "print(f\"Представлення обєктів має вигляд: {repr(a)} ||| {repr(t)}\")\n",
    "print(Anime.__doc__)"
   ]
  },
  {
   "cell_type": "code",
   "execution_count": 17,
   "metadata": {},
   "outputs": [
    {
     "name": "stdout",
     "output_type": "stream",
     "text": [
      "Якщо ми визначаємо довжину обєкта, то будемо мати: Сходження в тіні = 8 , це кількість головних героїв в Аніме.\n"
     ]
    }
   ],
   "source": [
    "print(f\"Якщо ми визначаємо довжину обєкта, то будемо мати: {b.title} = {len(b)} , це кількість головних героїв в Аніме.\")"
   ]
  },
  {
   "cell_type": "code",
   "execution_count": 25,
   "metadata": {},
   "outputs": [
    {
     "name": "stdout",
     "output_type": "stream",
     "text": [
      "Порівнюємо обєкти:\n",
      "Однакового класу: False,\n",
      "Порівняння з числом: True,\n",
      "Порівняння з іншим класом: False\n"
     ]
    }
   ],
   "source": [
    "print(f\"Порівнюємо обєкти:\\nОднакового класу: {a == b},\\nПорівняння з числом: {a == 2},\\nПорівняння з іншим класом: {a == t}\")"
   ]
  }
 ],
 "metadata": {
  "kernelspec": {
   "display_name": "Python 3",
   "language": "python",
   "name": "python3"
  },
  "language_info": {
   "codemirror_mode": {
    "name": "ipython",
    "version": 3
   },
   "file_extension": ".py",
   "mimetype": "text/x-python",
   "name": "python",
   "nbconvert_exporter": "python",
   "pygments_lexer": "ipython3",
   "version": "3.11.5"
  }
 },
 "nbformat": 4,
 "nbformat_minor": 2
}
